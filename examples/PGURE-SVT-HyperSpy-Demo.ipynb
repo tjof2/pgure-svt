{
 "cells": [
  {
   "cell_type": "markdown",
   "metadata": {},
   "source": [
    "# PGURE-SVT Demonstration\n",
    "\n",
    "PGURE-SVT (Poisson-Gaussian Unbiased Risk Estimator - Singular Value Thresholding) is an algorithm designed to denoise image sequences acquired in microscopy. It exploits the correlations between consecutive frames to form low-rank matrices, which are then recovered using a technique known as nuclear norm minimization. An unbiased risk estimator for mixed Poisson-Gaussian noise is used to automate the selection of the regularization parameter, while robust noise and motion estimation maintain broad applicability to many different types of microscopy.\n",
    "\n",
    "You can read more about the algorithm and its applications in:\n",
    "\n",
    "> T. Furnival, R. K. Leary and P. A. Midgley, \"Denoising time-resolved microscopy sequences with singular value thresholding\", *Ultramicroscopy*, vol. 178, pp. 112–124, 2017. DOI:[10.1016/j.ultramic.2016.05.005](http://dx.doi.org/10.1016/j.ultramic.2016.05.005)\n",
    "\n",
    "This example notebook shows how PGURE-SVT can be combined with [HyperSpy](http://hyperspy.org), which is an open-source Python library that makes signal handling and processing straightforward in Python."
   ]
  },
  {
   "cell_type": "code",
   "execution_count": null,
   "metadata": {},
   "outputs": [],
   "source": [
    "%matplotlib notebook\n",
    "\n",
    "import numpy as np\n",
    "import hyperspy.api as hs\n",
    "\n",
    "from pguresvt import hspy, mixed_noise_model"
   ]
  },
  {
   "cell_type": "markdown",
   "metadata": {},
   "source": [
    "## 1. Simulated dataset\n",
    "\n",
    "First, we load the simulated dataset using HyperSpy."
   ]
  },
  {
   "cell_type": "code",
   "execution_count": null,
   "metadata": {},
   "outputs": [],
   "source": [
    "# Load example dataset\n",
    "s = hs.load(\"example.tif\")\n",
    "\n",
    "# Truncate to 25 frames\n",
    "s = s.inav[:25]\n",
    "\n",
    "# Plot the result\n",
    "s.plot(navigator='slider')"
   ]
  },
  {
   "cell_type": "markdown",
   "metadata": {},
   "source": [
    "Now we corrupt the dataset with using a noise generator for mixed Poisson-Gaussian noise, according to the following equation, where the true, noise-free signal is $\\mathbf{X}^{0}$, and the observed noisy signal is $\\mathbf{Y}$:\n",
    "\n",
    "$$\n",
    "\\mathbf{Y}=\\alpha\\mathbf{Z}+\\mathbf{E}\\;\\textrm{ with }\\;\\begin{cases}\n",
    "  \\mathbf{Z}\\thicksim\\mathcal{P}\\left(\\frac{\\mathbf{X}^{0}}{\\alpha}\\right)\\\\\n",
    "  \\mathbf{E}\\thicksim\\mathcal{N}\\left(\\mu,\\sigma^{2}\\right)\n",
    "  \\end{cases}\n",
    "$$\n",
    "\n",
    "where $\\alpha$ is the detector gain, $\\mu$ is the detector offset, and $\\sigma$ is the (Gaussian) detector noise. "
   ]
  },
  {
   "cell_type": "code",
   "execution_count": null,
   "metadata": {},
   "outputs": [],
   "source": [
    "random_state = 123\n",
    "detector_gain = 0.1\n",
    "detector_offset = 0.5\n",
    "detector_sigma = 0.1\n",
    "\n",
    "noisy_data = mixed_noise_model(\n",
    "    s.data,\n",
    "    alpha=detector_gain,\n",
    "    mu=detector_offset,\n",
    "    sigma=detector_sigma,\n",
    "    random_state=random_state,\n",
    ")\n",
    "\n",
    "s_noisy = hs.signals.Signal2D(noisy_data)\n",
    "s_noisy.plot(navigator=\"slider\")"
   ]
  },
  {
   "cell_type": "markdown",
   "metadata": {},
   "source": [
    "Next we initialise the SVT denoising function. You can evaluate the following cell to view the full docstring."
   ]
  },
  {
   "cell_type": "code",
   "execution_count": null,
   "metadata": {},
   "outputs": [],
   "source": [
    "??hspysvt.HSPYSVT"
   ]
  },
  {
   "cell_type": "markdown",
   "metadata": {},
   "source": [
    "In this example we do not use the noise estimation procedure, and instead provide\n",
    "the known parameters to the algorithm directly. This information is used by the \n",
    "PGURE optimizer to calculate the appropriate threshold."
   ]
  },
  {
   "cell_type": "code",
   "execution_count": null,
   "metadata": {},
   "outputs": [],
   "source": [
    "svt = hspy.HSPYSVT(\n",
    "    patch_size=4,\n",
    "    noise_alpha=detector_gain,\n",
    "    noise_mu=detector_offset,\n",
    "    noise_sigma=detector_sigma,\n",
    "    tol=1e-5,\n",
    ")"
   ]
  },
  {
   "cell_type": "markdown",
   "metadata": {},
   "source": [
    "Now we are able to run the denoising and plot the result:"
   ]
  },
  {
   "cell_type": "code",
   "execution_count": null,
   "metadata": {},
   "outputs": [],
   "source": [
    "s_denoised = svt.denoise(s_noisy)\n",
    "s_denoised.plot(navigator='slider')"
   ]
  },
  {
   "cell_type": "markdown",
   "metadata": {},
   "source": [
    "## 2. Time-resolved ADF-STEM image sequence\n",
    "\n",
    "In this example we apply PGURE-SVT to an experimental dataset of a nanoparticle acquired using ADF-STEM. This image sequence contains 51 frames at a rate of 4 frames per second. The results of this denoising are shown in Fig. 11 of [the paper](http://dx.doi.org/10.1016/j.ultramic.2016.05.005).\n",
    "\n",
    "For larger images, such as the 256x256 pixels here, you can use the `patch_overlap` parameter to control the trade-off between speed and accuracy of the denoising procedure. This reduces the number of patches the algorithm works with, at the expense of introducing possible edge artefacts between patches.\n",
    "\n",
    "For the experimental sequence, the detector offset (`noise_mu`) was known beforehand, so a noise estimation procedure is used for the other values."
   ]
  },
  {
   "cell_type": "code",
   "execution_count": null,
   "metadata": {},
   "outputs": [],
   "source": [
    "# Load example dataset and plot\n",
    "s_np = hs.load(\"nanoparticle.tif\")\n",
    "s_np.plot(navigator=\"slider\")"
   ]
  },
  {
   "cell_type": "code",
   "execution_count": null,
   "metadata": {},
   "outputs": [],
   "source": [
    "# Initialize with suggested parameters, optimized for speed\n",
    "expt_svt = hspy.HSPYSVT(patch_size=4, patch_overlap=2, noise_mu=0.075)\n",
    "\n",
    "# Run the denoising\n",
    "s_np_denoised = expt_svt.denoise(s_np)\n",
    "\n",
    "# Plot denoised data\n",
    "s_np_denoised.plot(navigator=\"slider\")"
   ]
  },
  {
   "cell_type": "markdown",
   "metadata": {},
   "source": [
    "The parameters used to generate Fig. 11 in the paper are given below. Note that using these values can be *slow*, taking ~30 seconds per frame.\n",
    "```\n",
    "expt_svt = hspy.HSPYSVT(patch_size=4,\n",
    "                        patch_overlap=1,\n",
    "                        noise_mu=0.075,\n",
    "                        tol=1e-8,\n",
    "                        motion_window=11)\n",
    "```"
   ]
  },
  {
   "cell_type": "code",
   "execution_count": null,
   "metadata": {},
   "outputs": [],
   "source": []
  }
 ],
 "metadata": {
  "kernelspec": {
   "display_name": "Python 3",
   "language": "python",
   "name": "python3"
  },
  "language_info": {
   "codemirror_mode": {
    "name": "ipython",
    "version": 3
   },
   "file_extension": ".py",
   "mimetype": "text/x-python",
   "name": "python",
   "nbconvert_exporter": "python",
   "pygments_lexer": "ipython3",
   "version": "3.7.9"
  }
 },
 "nbformat": 4,
 "nbformat_minor": 1
}
